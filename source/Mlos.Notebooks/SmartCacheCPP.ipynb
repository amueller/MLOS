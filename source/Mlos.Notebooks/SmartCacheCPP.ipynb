{
 "cells": [
  {
   "cell_type": "markdown",
   "metadata": {},
   "source": [
    "# Connecting MLOS to a C++ application\n",
    "\n",
    "This notebook walks through connecting MLOS to a C++ application within a docker container.\n",
    "We will start a docker container, and run an MLOS Agent within it. The MLOS Agent will start the actual application, and communicate with it via a shared memory channel.\n",
    "In this example, the MLOS Agent controls the execution of the workloads on the application, and we will later connect to the agent to optimize the configuration of our application.\n",
    "\n",
    "The application is a \"SmartCache\" similar to the one in the SmartCacheOptimization notebook, though with some more parameters to tune.\n",
    "The source for this example is in the `source/Examples/SmartCache` folder."
   ]
  },
  {
   "cell_type": "markdown",
   "metadata": {},
   "source": [
    "## Building the application\n",
    "\n",
    "To build and run the necessary components for this example you need to create and run a docker image.\n",
    "To that end, open a separate terminal and go to the MLOS main folder. Within that folder, run the following commands:\n",
    "\n",
    "1. [Build the Docker image](../../../documentation/01-Prerequisites.md#build-the-docker-image) using the [`Dockerfile`](../../../Dockerfile#mlos-github-tree-view) at the root of the repository.\n",
    "\n",
    "    ```shell\n",
    "    docker build --build-arg=UbuntuVersion=20.04 -t mlos/build:ubuntu-20.04 .\n",
    "    ```\n",
    "\n",
    "2. [Run the Docker image](../../../documentation/02-Build.md#create-a-new-container-instance) you just built.\n",
    "\n",
    "    ```shell\n",
    "    docker run -it -v $PWD:/src/MLOS --name mlos-build mlos/build:ubuntu-20.04 \\\n",
    "        -p 127.0.0.1:50051:50051/tcp \n",
    "    ```\n",
    "    This will open a shell inside the docker container.\n",
    "    We're also exposing port 50051 on the docker container to port 50051 of our host machine.\n",
    "    This will allow us later to connect to the optimizer that runs inside the docker container.\n",
    "\n",
    "3. Inside the container, [build the compiled software](../../../documentation/02-Build.md#cli-make) with `make`:\n",
    "\n",
    "    ```sh\n",
    "    make dotnet-build cmake-build\n",
    "    ```"
   ]
  },
  {
   "cell_type": "markdown",
   "metadata": {},
   "source": [
    "The relevant output will be at:\n",
    "\n",
    "- Mlos.Agent.Server:\n",
    "\n",
    "    This file corresponds to the main entry point for MLOS, written in C#. You can find the source in\n",
    "    `source/Mlos.Agent.Server/MlosAgentServer.cs` and the binary at\n",
    "    `out/dotnet/source/Mlos.Agent.Server/obj/AnyCPU/Mlos.Agent.Server.dll`\n",
    "\n",
    "- SmartCache:\n",
    "\n",
    "    This is the C++ executable that implements the SmartCache and executes some workloads.\n",
    "    You can find the source in `source/Examples/SmartCache/Main.cpp` and the binary at\n",
    "    `out/cmake/Release/source/Examples/SmartCache/SmartCache`\n",
    "\n",
    "- SmartCache.SettingsRegistry:\n",
    "\n",
    "    This is the C# code that declares the configuration options for the SmartCache component, and defines the communication\n",
    "    between the the MLOS Agent and the SmartCache component. You can find the source in\n",
    "    `source/Examples/SmartCache/SmartCache.SettingsRegistry/AssemblyInitializer.cs` and the binary at\n",
    "    `out/dotnet/source/Examples/SmartCache/SmartCache.SettingsRegistry/obj/AnyCPU/SmartCache.SettingsRegistry.dll`\n",
    "        "
   ]
  },
  {
   "cell_type": "markdown",
   "metadata": {},
   "source": [
    "## Starting the MLOS Agent and executing the workloads:\n",
    "\n",
    "Within the docker container, we can now tell the agent where the configuration options are stored, by setting the `MLOS_Settings_REGISTRY_PATH`.\n",
    "Then, we can run the MLOS Agent, which will in turn run the SmartCache executable.\n",
    "```sh\n",
    "export MLOS_SETTINGS_REGISTRY_PATH=\"out/dotnet/source/Examples/SmartCache/SmartCache.SettingsRegistry/obj/AnyCPU\"\n",
    "\n",
    "tools/bin/dotnet out/dotnet/source/Mlos.Agent.Server/obj/AnyCPU/Mlos.Agent.Server.dll \\\n",
    "    --executable out/cmake/Release/source/Examples/SmartCache/SmartCache\n",
    "```"
   ]
  },
  {
   "cell_type": "markdown",
   "metadata": {},
   "source": [
    "The main loop of ``SmartCache`` contains the following:\n",
    "\n",
    "```cpp\n",
    "    for (int observations = 0; observations < 100; observations++)\n",
    "    {\n",
    "        // run 100 observations\n",
    "        std::cout << \"observations: \" << observations << std::endl;\n",
    "\n",
    "        for (int i = 0; i < 20; i++)\n",
    "        {\n",
    "            // run a workload 20 times\n",
    "            CyclicalWorkload(2048, smartCache);\n",
    "        }\n",
    "\n",
    "        bool isConfigReady = false;\n",
    "        std::mutex waitForConfigMutex;\n",
    "        std::condition_variable waitForConfigCondVar;\n",
    "\n",
    "        // Setup a callback.\n",
    "        //\n",
    "        // OMMITTED\n",
    "        // [...]\n",
    "\n",
    "        // Send a request to obtain a new configuration.\n",
    "        SmartCache::RequestNewConfigurationMessage msg = { 0 };\n",
    "        mlosContext.SendTelemetryMessage(msg);\n",
    "        // wait for MLOS Agent so send a message with a new configuration\n",
    "        std::unique_lock<std::mutex> lock(waitForConfigMutex);\n",
    "        while (!isConfigReady)\n",
    "        {\n",
    "            waitForConfigCondVar.wait(lock);\n",
    "        }\n",
    "\n",
    "        config.Update();\n",
    "        smartCache.Reconfigure();\n",
    "    }\n",
    "```"
   ]
  },
  {
   "cell_type": "markdown",
   "metadata": {},
   "source": [
    "After each iteration, a TelemetryMessage is sent to the MLOS Agent, and the SmartCache blocks until it receives a new configuration to run the next workload.\n",
    "By default, the agent is not connected to any optimizer, and will not change the original configuration, so the workload will just run uninterrupted."
   ]
  },
  {
   "cell_type": "markdown",
   "metadata": {},
   "source": [
    "## Starting an Optimizer\n",
    "We can now also start an Optimizer service for the MLOS Agent to connect to so that we can actually optimize the parameters for this workload.\n",
    "As the optimizer is running in a separate process, we need to create a new shell on the running docker container using the following command:\n",
    "\n",
    "```shell\n",
    "docker exec -it mlos-build /bin/bash\n",
    "```\n",
    "\n",
    "Within the container, we now install the Python optimizer service:\n",
    "```shell\n",
    "pip install -e source/Mlos.Python/\n",
    "```\n",
    "\n",
    "And run it:\n",
    "```shell\n",
    "start_optimizer_microservice launch --port 50051\n",
    "```\n"
   ]
  },
  {
   "cell_type": "markdown",
   "metadata": {},
   "source": [
    "## Connecting the Agent to the Optimizer\n",
    "Now we can start the agent again, this time also pointing it to the optimizer:\n",
    "```sh\n",
    "tools/bin/dotnet out/dotnet/source/Mlos.Agent.Server/obj/AnyCPU/Mlos.Agent.Server.dll \\\n",
    "    --executable out/cmake/Release/source/Examples/SmartCache/SmartCache \\\n",
    "    --optimizer-uri http://localhost:50051\n",
    "```"
   ]
  },
  {
   "cell_type": "code",
   "execution_count": 1,
   "metadata": {},
   "outputs": [],
   "source": [
    "from mlos.Grpc.OptimizerMonitor import OptimizerMonitor\n",
    "import grpc"
   ]
  },
  {
   "cell_type": "code",
   "execution_count": 6,
   "metadata": {},
   "outputs": [
    {
     "data": {
      "text/plain": [
       "OptimizerMonitor(grpc_channel='172.17.0.2:50051')"
      ]
     },
     "execution_count": 6,
     "metadata": {},
     "output_type": "execute_result"
    }
   ],
   "source": [
    "channel = grpc.insecure_channel('172.17.0.2:50051')\n",
    "optimizer_monitor = OptimizerMonitor(grpc_channel=channel)\n",
    "optimizer_monitor"
   ]
  },
  {
   "cell_type": "code",
   "execution_count": 7,
   "metadata": {},
   "outputs": [
    {
     "ename": "_InactiveRpcError",
     "evalue": "<_InactiveRpcError of RPC that terminated with:\n\tstatus = StatusCode.UNAVAILABLE\n\tdetails = \"failed to connect to all addresses\"\n\tdebug_error_string = \"{\"created\":\"@1601306607.577431000\",\"description\":\"Failed to pick subchannel\",\"file\":\"src/core/ext/filters/client_channel/client_channel.cc\",\"file_line\":4089,\"referenced_errors\":[{\"created\":\"@1601306607.577424000\",\"description\":\"failed to connect to all addresses\",\"file\":\"src/core/ext/filters/client_channel/lb_policy/pick_first/pick_first.cc\",\"file_line\":393,\"grpc_status\":14}]}\"\n>",
     "output_type": "error",
     "traceback": [
      "\u001b[0;31m---------------------------------------------------------------------------\u001b[0m",
      "\u001b[0;31m_InactiveRpcError\u001b[0m                         Traceback (most recent call last)",
      "\u001b[0;32m<ipython-input-7-cf2cb861ff1d>\u001b[0m in \u001b[0;36m<module>\u001b[0;34m\u001b[0m\n\u001b[0;32m----> 1\u001b[0;31m \u001b[0moptimizer_monitor\u001b[0m\u001b[0;34m.\u001b[0m\u001b[0mget_existing_optimizers\u001b[0m\u001b[0;34m(\u001b[0m\u001b[0;34m)\u001b[0m\u001b[0;34m\u001b[0m\u001b[0;34m\u001b[0m\u001b[0m\n\u001b[0m",
      "\u001b[0;32m~/checkout/MLOS/source/Mlos.Python/mlos/Grpc/OptimizerMonitor.py\u001b[0m in \u001b[0;36mget_existing_optimizers\u001b[0;34m(self)\u001b[0m\n\u001b[1;32m     29\u001b[0m         \"\"\"\n\u001b[1;32m     30\u001b[0m         \u001b[0mrequest\u001b[0m \u001b[0;34m=\u001b[0m \u001b[0mEmpty\u001b[0m\u001b[0;34m(\u001b[0m\u001b[0;34m)\u001b[0m\u001b[0;34m\u001b[0m\u001b[0;34m\u001b[0m\u001b[0m\n\u001b[0;32m---> 31\u001b[0;31m         \u001b[0moptimizer_list\u001b[0m \u001b[0;34m=\u001b[0m \u001b[0mself\u001b[0m\u001b[0;34m.\u001b[0m\u001b[0m_optimizer_service_stub\u001b[0m\u001b[0;34m.\u001b[0m\u001b[0mListExistingOptimizers\u001b[0m\u001b[0;34m(\u001b[0m\u001b[0mrequest\u001b[0m\u001b[0;34m)\u001b[0m\u001b[0;34m\u001b[0m\u001b[0;34m\u001b[0m\u001b[0m\n\u001b[0m\u001b[1;32m     32\u001b[0m \u001b[0;34m\u001b[0m\u001b[0m\n\u001b[1;32m     33\u001b[0m         optimizer_proxies = [\n",
      "\u001b[0;32m~/anaconda3/envs/mlos_python_environment/lib/python3.7/site-packages/grpc/_channel.py\u001b[0m in \u001b[0;36m__call__\u001b[0;34m(self, request, timeout, metadata, credentials, wait_for_ready, compression)\u001b[0m\n\u001b[1;32m    824\u001b[0m         state, call, = self._blocking(request, timeout, metadata, credentials,\n\u001b[1;32m    825\u001b[0m                                       wait_for_ready, compression)\n\u001b[0;32m--> 826\u001b[0;31m         \u001b[0;32mreturn\u001b[0m \u001b[0m_end_unary_response_blocking\u001b[0m\u001b[0;34m(\u001b[0m\u001b[0mstate\u001b[0m\u001b[0;34m,\u001b[0m \u001b[0mcall\u001b[0m\u001b[0;34m,\u001b[0m \u001b[0;32mFalse\u001b[0m\u001b[0;34m,\u001b[0m \u001b[0;32mNone\u001b[0m\u001b[0;34m)\u001b[0m\u001b[0;34m\u001b[0m\u001b[0;34m\u001b[0m\u001b[0m\n\u001b[0m\u001b[1;32m    827\u001b[0m \u001b[0;34m\u001b[0m\u001b[0m\n\u001b[1;32m    828\u001b[0m     def with_call(self,\n",
      "\u001b[0;32m~/anaconda3/envs/mlos_python_environment/lib/python3.7/site-packages/grpc/_channel.py\u001b[0m in \u001b[0;36m_end_unary_response_blocking\u001b[0;34m(state, call, with_call, deadline)\u001b[0m\n\u001b[1;32m    727\u001b[0m             \u001b[0;32mreturn\u001b[0m \u001b[0mstate\u001b[0m\u001b[0;34m.\u001b[0m\u001b[0mresponse\u001b[0m\u001b[0;34m\u001b[0m\u001b[0;34m\u001b[0m\u001b[0m\n\u001b[1;32m    728\u001b[0m     \u001b[0;32melse\u001b[0m\u001b[0;34m:\u001b[0m\u001b[0;34m\u001b[0m\u001b[0;34m\u001b[0m\u001b[0m\n\u001b[0;32m--> 729\u001b[0;31m         \u001b[0;32mraise\u001b[0m \u001b[0m_InactiveRpcError\u001b[0m\u001b[0;34m(\u001b[0m\u001b[0mstate\u001b[0m\u001b[0;34m)\u001b[0m\u001b[0;34m\u001b[0m\u001b[0;34m\u001b[0m\u001b[0m\n\u001b[0m\u001b[1;32m    730\u001b[0m \u001b[0;34m\u001b[0m\u001b[0m\n\u001b[1;32m    731\u001b[0m \u001b[0;34m\u001b[0m\u001b[0m\n",
      "\u001b[0;31m_InactiveRpcError\u001b[0m: <_InactiveRpcError of RPC that terminated with:\n\tstatus = StatusCode.UNAVAILABLE\n\tdetails = \"failed to connect to all addresses\"\n\tdebug_error_string = \"{\"created\":\"@1601306607.577431000\",\"description\":\"Failed to pick subchannel\",\"file\":\"src/core/ext/filters/client_channel/client_channel.cc\",\"file_line\":4089,\"referenced_errors\":[{\"created\":\"@1601306607.577424000\",\"description\":\"failed to connect to all addresses\",\"file\":\"src/core/ext/filters/client_channel/lb_policy/pick_first/pick_first.cc\",\"file_line\":393,\"grpc_status\":14}]}\"\n>"
     ]
    }
   ],
   "source": [
    "optimizer_monitor.get_existing_optimizers()"
   ]
  },
  {
   "cell_type": "code",
   "execution_count": null,
   "metadata": {},
   "outputs": [],
   "source": []
  }
 ],
 "metadata": {
  "kernelspec": {
   "display_name": "Python [conda env:mlos_python_environment]",
   "language": "python",
   "name": "conda-env-mlos_python_environment-py"
  },
  "language_info": {
   "codemirror_mode": {
    "name": "ipython",
    "version": 3
   },
   "file_extension": ".py",
   "mimetype": "text/x-python",
   "name": "python",
   "nbconvert_exporter": "python",
   "pygments_lexer": "ipython3",
   "version": "3.7.9"
  }
 },
 "nbformat": 4,
 "nbformat_minor": 4
}
