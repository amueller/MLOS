{
 "cells": [
  {
   "cell_type": "markdown",
   "metadata": {},
   "source": [
    "# Connecting MLOS to a C++ application\n",
    "\n",
    "This notebook walks through connecting MLOS to a C++ application within a docker container.\n",
    "We will start a docker container, and run an MLOS Agent within it. The MLOS Agent will start the actual application, and communicate with it via a shared memory channel.\n",
    "In this example, the MLOS Agent controls the execution of the workloads on the application, and we will later connect to the agent to optimize the configuration of our application.\n",
    "\n",
    "The application is a \"SmartCache\" similar to the one in the SmartCacheOptimization notebook, though with some more parameters to tune.\n",
    "The source for this example is in the `source/Examples/SmartCache` folder."
   ]
  },
  {
   "cell_type": "markdown",
   "metadata": {},
   "source": [
    "## Building the application\n",
    "\n",
    "To build and run the necessary components for this example you need to create and run a docker image.\n",
    "To that end, open a separate terminal and go to the MLOS main folder. Within that folder, run the following commands:\n",
    "\n",
    "1. [Build the Docker image](../../../documentation/01-Prerequisites.md#build-the-docker-image) using the [`Dockerfile`](../../../Dockerfile#mlos-github-tree-view) at the root of the repository.\n",
    "\n",
    "    ```shell\n",
    "    docker build --build-arg=UbuntuVersion=20.04 -t mlos/build:ubuntu-20.04 .\n",
    "    ```\n",
    "\n",
    "2. [Run the Docker image](../../../documentation/02-Build.md#create-a-new-container-instance) you just built.\n",
    "\n",
    "    ```shell\n",
    "    docker run -it -v $PWD:/src/MLOS --name mlos-build mlos/build:ubuntu-20.04 \\\n",
    "        -p 127.0.0.1:50051:50051/tcp \n",
    "    ```\n",
    "    This will open a shell inside the docker container.\n",
    "    We're also exposing port 50051 on the docker container to port 50051 of our host machine.\n",
    "    This will allow us later to connect to the optimizer that runs inside the docker container.\n",
    "\n",
    "3. Inside the container, [build the compiled software](../../../documentation/02-Build.md#cli-make) with `make`:\n",
    "\n",
    "    ```sh\n",
    "    make dotnet-build cmake-build\n",
    "    ```"
   ]
  },
  {
   "cell_type": "markdown",
   "metadata": {},
   "source": [
    "The relevant output will be at:\n",
    "\n",
    "- Mlos.Agent.Server:\n",
    "\n",
    "    This file corresponds to the main entry point for MLOS, written in C#. You can find the source in\n",
    "    `source/Mlos.Agent.Server/MlosAgentServer.cs` and the binary at\n",
    "    `out/dotnet/source/Mlos.Agent.Server/obj/AnyCPU/Mlos.Agent.Server.dll`\n",
    "\n",
    "- SmartCache:\n",
    "\n",
    "    This is the C++ executable that implements the SmartCache and executes some workloads.\n",
    "    You can find the source in `source/Examples/SmartCache/Main.cpp` and the binary at\n",
    "    `out/cmake/Release/source/Examples/SmartCache/SmartCache`\n",
    "\n",
    "- SmartCache.SettingsRegistry:\n",
    "\n",
    "    This is the C# code that declares the configuration options for the SmartCache component, and defines the communication\n",
    "    between the the MLOS Agent and the SmartCache component. You can find the source in\n",
    "    `source/Examples/SmartCache/SmartCache.SettingsRegistry/AssemblyInitializer.cs` and the binary at\n",
    "    `out/dotnet/source/Examples/SmartCache/SmartCache.SettingsRegistry/obj/AnyCPU/SmartCache.SettingsRegistry.dll`\n",
    "        "
   ]
  },
  {
   "cell_type": "markdown",
   "metadata": {},
   "source": [
    "## Starting the MLOS Agent and executing the workloads:\n",
    "\n",
    "Within the docker container, we can now tell the agent where the configuration options are stored, by setting the `MLOS_Settings_REGISTRY_PATH`.\n",
    "Then, we can run the MLOS Agent, which will in turn run the SmartCache executable.\n",
    "```sh\n",
    "export MLOS_SETTINGS_REGISTRY_PATH=\"out/dotnet/source/Examples/SmartCache/SmartCache.SettingsRegistry/obj/AnyCPU\"\n",
    "\n",
    "tools/bin/dotnet out/dotnet/source/Mlos.Agent.Server/obj/AnyCPU/Mlos.Agent.Server.dll \\\n",
    "    --executable out/cmake/Release/source/Examples/SmartCache/SmartCache\n",
    "```"
   ]
  },
  {
   "cell_type": "markdown",
   "metadata": {},
   "source": [
    "The main loop of ``SmartCache`` contains the following:\n",
    "\n",
    "```cpp\n",
    "    for (int observations = 0; observations < 100; observations++)\n",
    "    {\n",
    "        // run 100 observations\n",
    "        std::cout << \"observations: \" << observations << std::endl;\n",
    "\n",
    "        for (int i = 0; i < 20; i++)\n",
    "        {\n",
    "            // run a workload 20 times\n",
    "            CyclicalWorkload(2048, smartCache);\n",
    "        }\n",
    "\n",
    "        bool isConfigReady = false;\n",
    "        std::mutex waitForConfigMutex;\n",
    "        std::condition_variable waitForConfigCondVar;\n",
    "\n",
    "        // Setup a callback.\n",
    "        //\n",
    "        // OMMITTED\n",
    "        // [...]\n",
    "\n",
    "        // Send a request to obtain a new configuration.\n",
    "        SmartCache::RequestNewConfigurationMessage msg = { 0 };\n",
    "        mlosContext.SendTelemetryMessage(msg);\n",
    "        // wait for MLOS Agent so send a message with a new configuration\n",
    "        std::unique_lock<std::mutex> lock(waitForConfigMutex);\n",
    "        while (!isConfigReady)\n",
    "        {\n",
    "            waitForConfigCondVar.wait(lock);\n",
    "        }\n",
    "\n",
    "        config.Update();\n",
    "        smartCache.Reconfigure();\n",
    "    }\n",
    "```"
   ]
  },
  {
   "cell_type": "markdown",
   "metadata": {},
   "source": [
    "After each iteration, a TelemetryMessage is sent to the MLOS Agent, and the SmartCache blocks until it receives a new configuration to run the next workload.\n",
    "By default, the agent is not connected to any optimizer, and will not change the original configuration, so the workload will just run uninterrupted."
   ]
  },
  {
   "cell_type": "markdown",
   "metadata": {},
   "source": [
    "## Starting an Optimizer\n",
    "We can now also start an Optimizer service for the MLOS Agent to connect to so that we can actually optimize the parameters for this workload.\n",
    "As the optimizer is running in a separate process, we need to create a new shell on the running docker container using the following command:\n",
    "\n",
    "```shell\n",
    "docker exec -it mlos-build /bin/bash\n",
    "```\n",
    "\n",
    "Within the container, we now install the Python optimizer service:\n",
    "```shell\n",
    "pip install -e source/Mlos.Python/\n",
    "```\n",
    "\n",
    "And run it:\n",
    "```shell\n",
    "start_optimizer_microservice launch --port 50051\n",
    "```\n"
   ]
  },
  {
   "cell_type": "markdown",
   "metadata": {},
   "source": [
    "## Connecting the Agent to the Optimizer\n",
    "Now we can start the agent again, this time also pointing it to the optimizer:\n",
    "```sh\n",
    "tools/bin/dotnet out/dotnet/source/Mlos.Agent.Server/obj/AnyCPU/Mlos.Agent.Server.dll \\\n",
    "    --executable out/cmake/Release/source/Examples/SmartCache/SmartCache \\\n",
    "    --optimizer-uri http://localhost:50051\n",
    "```"
   ]
  },
  {
   "cell_type": "code",
   "execution_count": 8,
   "metadata": {},
   "outputs": [],
   "source": [
    "from mlos.Grpc.OptimizerMonitor import OptimizerMonitor\n",
    "import grpc"
   ]
  },
  {
   "cell_type": "code",
   "execution_count": 9,
   "metadata": {},
   "outputs": [
    {
     "data": {
      "text/plain": [
       "OptimizerMonitor(grpc_channel='127.0.0.1:50051')"
      ]
     },
     "execution_count": 9,
     "metadata": {},
     "output_type": "execute_result"
    }
   ],
   "source": [
    "channel = grpc.insecure_channel('127.0.0.1:50051')\n",
    "optimizer_monitor = OptimizerMonitor(grpc_channel=channel)\n",
    "optimizer_monitor"
   ]
  },
  {
   "cell_type": "code",
   "execution_count": 11,
   "metadata": {},
   "outputs": [
    {
     "data": {
      "text/plain": [
       "[<mlos.Grpc.BayesianOptimizerProxy.BayesianOptimizerProxy at 0x7f028f74cb50>]"
      ]
     },
     "execution_count": 11,
     "metadata": {},
     "output_type": "execute_result"
    }
   ],
   "source": [
    "optimizers = optimizer_monitor.get_existing_optimizers()\n",
    "optimizers"
   ]
  },
  {
   "cell_type": "code",
   "execution_count": 21,
   "metadata": {},
   "outputs": [],
   "source": [
    "optimizer = optimizers[0]\n",
    "features_df, objectives_df =  optimizer.get_all_observations()"
   ]
  },
  {
   "cell_type": "code",
   "execution_count": 22,
   "metadata": {},
   "outputs": [
    {
     "data": {
      "text/html": [
       "<div>\n",
       "<style scoped>\n",
       "    .dataframe tbody tr th:only-of-type {\n",
       "        vertical-align: middle;\n",
       "    }\n",
       "\n",
       "    .dataframe tbody tr th {\n",
       "        vertical-align: top;\n",
       "    }\n",
       "\n",
       "    .dataframe thead th {\n",
       "        text-align: right;\n",
       "    }\n",
       "</style>\n",
       "<table border=\"1\" class=\"dataframe\">\n",
       "  <thead>\n",
       "    <tr style=\"text-align: right;\">\n",
       "      <th></th>\n",
       "      <th>cache_implementation</th>\n",
       "      <th>lru_cache_config.cache_size</th>\n",
       "      <th>mru_cache_config.cache_size</th>\n",
       "    </tr>\n",
       "  </thead>\n",
       "  <tbody>\n",
       "    <tr>\n",
       "      <th>0</th>\n",
       "      <td>LeastRecentlyUsed</td>\n",
       "      <td>100.0</td>\n",
       "      <td>NaN</td>\n",
       "    </tr>\n",
       "    <tr>\n",
       "      <th>1</th>\n",
       "      <td>LeastRecentlyUsed</td>\n",
       "      <td>2209.0</td>\n",
       "      <td>NaN</td>\n",
       "    </tr>\n",
       "    <tr>\n",
       "      <th>2</th>\n",
       "      <td>LeastRecentlyUsed</td>\n",
       "      <td>2354.0</td>\n",
       "      <td>NaN</td>\n",
       "    </tr>\n",
       "    <tr>\n",
       "      <th>3</th>\n",
       "      <td>MostRecentlyUsed</td>\n",
       "      <td>NaN</td>\n",
       "      <td>2326.0</td>\n",
       "    </tr>\n",
       "    <tr>\n",
       "      <th>4</th>\n",
       "      <td>LeastRecentlyUsed</td>\n",
       "      <td>740.0</td>\n",
       "      <td>NaN</td>\n",
       "    </tr>\n",
       "    <tr>\n",
       "      <th>...</th>\n",
       "      <td>...</td>\n",
       "      <td>...</td>\n",
       "      <td>...</td>\n",
       "    </tr>\n",
       "    <tr>\n",
       "      <th>95</th>\n",
       "      <td>MostRecentlyUsed</td>\n",
       "      <td>NaN</td>\n",
       "      <td>1960.0</td>\n",
       "    </tr>\n",
       "    <tr>\n",
       "      <th>96</th>\n",
       "      <td>MostRecentlyUsed</td>\n",
       "      <td>NaN</td>\n",
       "      <td>1960.0</td>\n",
       "    </tr>\n",
       "    <tr>\n",
       "      <th>97</th>\n",
       "      <td>MostRecentlyUsed</td>\n",
       "      <td>NaN</td>\n",
       "      <td>1955.0</td>\n",
       "    </tr>\n",
       "    <tr>\n",
       "      <th>98</th>\n",
       "      <td>MostRecentlyUsed</td>\n",
       "      <td>NaN</td>\n",
       "      <td>1943.0</td>\n",
       "    </tr>\n",
       "    <tr>\n",
       "      <th>99</th>\n",
       "      <td>MostRecentlyUsed</td>\n",
       "      <td>NaN</td>\n",
       "      <td>2035.0</td>\n",
       "    </tr>\n",
       "  </tbody>\n",
       "</table>\n",
       "<p>100 rows × 3 columns</p>\n",
       "</div>"
      ],
      "text/plain": [
       "   cache_implementation  lru_cache_config.cache_size  \\\n",
       "0     LeastRecentlyUsed                        100.0   \n",
       "1     LeastRecentlyUsed                       2209.0   \n",
       "2     LeastRecentlyUsed                       2354.0   \n",
       "3      MostRecentlyUsed                          NaN   \n",
       "4     LeastRecentlyUsed                        740.0   \n",
       "..                  ...                          ...   \n",
       "95     MostRecentlyUsed                          NaN   \n",
       "96     MostRecentlyUsed                          NaN   \n",
       "97     MostRecentlyUsed                          NaN   \n",
       "98     MostRecentlyUsed                          NaN   \n",
       "99     MostRecentlyUsed                          NaN   \n",
       "\n",
       "    mru_cache_config.cache_size  \n",
       "0                           NaN  \n",
       "1                           NaN  \n",
       "2                           NaN  \n",
       "3                        2326.0  \n",
       "4                           NaN  \n",
       "..                          ...  \n",
       "95                       1960.0  \n",
       "96                       1960.0  \n",
       "97                       1955.0  \n",
       "98                       1943.0  \n",
       "99                       2035.0  \n",
       "\n",
       "[100 rows x 3 columns]"
      ]
     },
     "execution_count": 22,
     "metadata": {},
     "output_type": "execute_result"
    }
   ],
   "source": [
    "features_df"
   ]
  },
  {
   "cell_type": "code",
   "execution_count": 23,
   "metadata": {},
   "outputs": [
    {
     "data": {
      "text/html": [
       "<div>\n",
       "<style scoped>\n",
       "    .dataframe tbody tr th:only-of-type {\n",
       "        vertical-align: middle;\n",
       "    }\n",
       "\n",
       "    .dataframe tbody tr th {\n",
       "        vertical-align: top;\n",
       "    }\n",
       "\n",
       "    .dataframe thead th {\n",
       "        text-align: right;\n",
       "    }\n",
       "</style>\n",
       "<table border=\"1\" class=\"dataframe\">\n",
       "  <thead>\n",
       "    <tr style=\"text-align: right;\">\n",
       "      <th></th>\n",
       "      <th>HitRate</th>\n",
       "    </tr>\n",
       "  </thead>\n",
       "  <tbody>\n",
       "    <tr>\n",
       "      <th>0</th>\n",
       "      <td>0.000000</td>\n",
       "    </tr>\n",
       "    <tr>\n",
       "      <th>1</th>\n",
       "      <td>0.950000</td>\n",
       "    </tr>\n",
       "    <tr>\n",
       "      <th>10</th>\n",
       "      <td>0.750904</td>\n",
       "    </tr>\n",
       "    <tr>\n",
       "      <th>11</th>\n",
       "      <td>0.926795</td>\n",
       "    </tr>\n",
       "    <tr>\n",
       "      <th>12</th>\n",
       "      <td>0.148510</td>\n",
       "    </tr>\n",
       "    <tr>\n",
       "      <th>...</th>\n",
       "      <td>...</td>\n",
       "    </tr>\n",
       "    <tr>\n",
       "      <th>95</th>\n",
       "      <td>0.909624</td>\n",
       "    </tr>\n",
       "    <tr>\n",
       "      <th>96</th>\n",
       "      <td>0.909624</td>\n",
       "    </tr>\n",
       "    <tr>\n",
       "      <th>97</th>\n",
       "      <td>0.907303</td>\n",
       "    </tr>\n",
       "    <tr>\n",
       "      <th>98</th>\n",
       "      <td>0.901734</td>\n",
       "    </tr>\n",
       "    <tr>\n",
       "      <th>99</th>\n",
       "      <td>0.944431</td>\n",
       "    </tr>\n",
       "  </tbody>\n",
       "</table>\n",
       "<p>100 rows × 1 columns</p>\n",
       "</div>"
      ],
      "text/plain": [
       "     HitRate\n",
       "0   0.000000\n",
       "1   0.950000\n",
       "10  0.750904\n",
       "11  0.926795\n",
       "12  0.148510\n",
       "..       ...\n",
       "95  0.909624\n",
       "96  0.909624\n",
       "97  0.907303\n",
       "98  0.901734\n",
       "99  0.944431\n",
       "\n",
       "[100 rows x 1 columns]"
      ]
     },
     "execution_count": 23,
     "metadata": {},
     "output_type": "execute_result"
    }
   ],
   "source": [
    "objectives_df"
   ]
  },
  {
   "cell_type": "code",
   "execution_count": null,
   "metadata": {},
   "outputs": [],
   "source": []
  }
 ],
 "metadata": {
  "kernelspec": {
   "display_name": "Python [conda env:mlos_python_environment]",
   "language": "python",
   "name": "conda-env-mlos_python_environment-py"
  },
  "language_info": {
   "codemirror_mode": {
    "name": "ipython",
    "version": 3
   },
   "file_extension": ".py",
   "mimetype": "text/x-python",
   "name": "python",
   "nbconvert_exporter": "python",
   "pygments_lexer": "ipython3",
   "version": "3.7.9"
  }
 },
 "nbformat": 4,
 "nbformat_minor": 4
}
