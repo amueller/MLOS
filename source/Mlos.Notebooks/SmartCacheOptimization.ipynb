{
 "cells": [
  {
   "cell_type": "markdown",
   "metadata": {},
   "source": [
    "# Optimizing Smart Cache with Bayesian Optimization\n",
    "\n",
    "The goal of this notebook is to optimize SmartCache using Bayesian Optimization approach.\n",
    "\n",
    "We're using a sequential model-based optimization approach, that consists of the following loop:\n",
    "1. Get suggested config from optimizer,\n",
    "2. Apply suggested config to ``SmartCache``,\n",
    "3. Execute a fixed workload,\n",
    "4. Collect the metrics from ``SmartCache``,\n",
    "5. Register an observation with the optimizer.\n"
   ]
  },
  {
   "cell_type": "code",
   "execution_count": 1,
   "metadata": {},
   "outputs": [],
   "source": [
    "# import the required classes and tools\n",
    "import grpc\n",
    "import pandas as pd\n",
    "import logging\n",
    "\n",
    "from mlos.Grpc.BayesianOptimizerFactory import BayesianOptimizerFactory\n",
    "from mlos.Logger import create_logger\n",
    "\n",
    "from mlos.Examples.SmartCache import HitRateMonitor, SmartCache, SmartCacheWorkloadGenerator, SmartCacheWorkloadLauncher\n",
    "from mlos.Mlos.SDK import MlosExperiment\n",
    "from mlos.Optimizers.OptimizationProblem import OptimizationProblem, Objective\n",
    "from mlos.Spaces import Point, SimpleHypergrid, ContinuousDimension\n",
    "\n",
    "# The optimizer will be in a remote process via grpc, we pick the port here:\n",
    "grpc_port = 50051"
   ]
  },
  {
   "cell_type": "markdown",
   "metadata": {},
   "source": [
    "Launch the optimizer service in a different process:"
   ]
  },
  {
   "cell_type": "code",
   "execution_count": 2,
   "metadata": {},
   "outputs": [],
   "source": [
    "import subprocess\n",
    "optimizer_microservice = subprocess.Popen(f\"start_optimizer_microservice launch --port {grpc_port}\", shell=True)"
   ]
  },
  {
   "cell_type": "markdown",
   "metadata": {},
   "source": [
    "Now the optimizer service that runs the surrogate model and suggests new points is started in the background.\n",
    "Next, we instantiate an object that connects to it over grpc using the ``BayesianOptimizerFactory``."
   ]
  },
  {
   "cell_type": "code",
   "execution_count": 3,
   "metadata": {},
   "outputs": [],
   "source": [
    "logger = create_logger('Optimizing Smart Cache', logging_level=logging.WARN)\n",
    "optimizer_service_grpc_channel = grpc.insecure_channel(f'localhost:{grpc_port}')\n",
    "bayesian_optimizer_factory = BayesianOptimizerFactory(grpc_channel=optimizer_service_grpc_channel, logger=logger)"
   ]
  },
  {
   "cell_type": "markdown",
   "metadata": {},
   "source": [
    "# The optimization problem"
   ]
  },
  {
   "cell_type": "markdown",
   "metadata": {},
   "source": [
    "Then we can instantiate our optimization problem. We want to optimize the configuration of the ``SmartCache`` component that contains two implementations: an LRU (least recently used) cache and an MRU cache (most recently used).\n",
    "The ``SmartCache`` component has two parameters that we can adjust, the type of cache and the cache size. We are using some synthetic workloads for the cache and try to find what the optimum configuration for each workload is.\n",
    "\n",
    "Here, we measure 'optimum' by the number of cache hits. Another option would be to measure runtime; however, this is a toy example with a trivial workload and there is likely substantial runtime difference.\n",
    "The parameter search space is declared in ``SmartCache.parameter_search_space``:"
   ]
  },
  {
   "cell_type": "code",
   "execution_count": 4,
   "metadata": {},
   "outputs": [
    {
     "data": {
      "text/plain": [
       "smart_cache_config\n",
       "implementation: [LRU, MRU]\n",
       "lru_cache_config.cache_size: {1, 2, 3, ... , 4096}\n",
       "mru_cache_config.cache_size: {1, 2, 3, ... , 4096}"
      ]
     },
     "execution_count": 4,
     "metadata": {},
     "output_type": "execute_result"
    }
   ],
   "source": [
    "SmartCache.parameter_search_space"
   ]
  },
  {
   "cell_type": "markdown",
   "metadata": {},
   "source": [
    "The optimization problem is constructed using this parameter space as the input to optimize, and defines a single continuous objective, 'hit_rate' between 0 and 1."
   ]
  },
  {
   "cell_type": "code",
   "execution_count": 5,
   "metadata": {},
   "outputs": [],
   "source": [
    "# Optimization Problem\n",
    "#\n",
    "optimization_problem = OptimizationProblem(\n",
    "    parameter_space=SmartCache.parameter_search_space,\n",
    "    objective_space=SimpleHypergrid(name=\"objectives\", dimensions=[ContinuousDimension(name=\"hit_rate\", min=0, max=1)]),\n",
    "    objectives=[Objective(name=\"hit_rate\", minimize=False)]\n",
    ")\n",
    "# create an optimizer proxy that connects to the remote optimizer via grpc:\n",
    "optimizer = bayesian_optimizer_factory.create_remote_optimizer(optimization_problem=optimization_problem)"
   ]
  },
  {
   "cell_type": "markdown",
   "metadata": {},
   "source": [
    "# Defining workloads\n",
    "Now we can instantiate our workloads and stand up the MLOS infrastructure, both of which are orchestrated by``SmartCacheWorkloadLauncher``. The MLOS infrastructure consists of the MlosAgent and a communication channel, which are available to both the ``SmartCacheWorkloadGenerator`` and the ``SmartCache``.\n",
    "The ``SmartCacheWorkloadLauncher`` launches workloads in ``SmartCacheWorkloadGenerator`` in a separate thread, which will actually generate and run the workloads for the smart cache.\n",
    "The SmartCacheWorkloadLauncher also connects the ``SmartCacheWorkLloadGenerator`` to the optimization problem via a ``MlosAgent`` that will consume the configurations."
   ]
  },
  {
   "cell_type": "code",
   "execution_count": 6,
   "metadata": {},
   "outputs": [],
   "source": [
    "workload_launcher = SmartCacheWorkloadLauncher(logger=logger)\n",
    "mlos_agent = workload_launcher.mlos_agent"
   ]
  },
  {
   "cell_type": "markdown",
   "metadata": {},
   "source": [
    "We set up the agent to consume configurations for the ``SmartCacheWorkloadGenerator``, and we configure the workload to be sequential keys from a range from 0 to 2048."
   ]
  },
  {
   "cell_type": "code",
   "execution_count": 7,
   "metadata": {},
   "outputs": [],
   "source": [
    "mlos_agent.set_configuration(\n",
    "    component_type=SmartCacheWorkloadGenerator,\n",
    "    new_config_values=Point(\n",
    "        workload_type='cyclical_key_from_range',\n",
    "        cyclical_key_from_range_config=Point(\n",
    "            min=0,\n",
    "            range_width=2048\n",
    "        )\n",
    "    )\n",
    ")"
   ]
  },
  {
   "cell_type": "markdown",
   "metadata": {},
   "source": [
    "# Launching the experiment (measurement)\n",
    "Now we build the experiment, which collects hit-rate statistics from the ``SmartCacheWorkloadGenerator`` via the ``HitRateMonitor``. This architecture reflects the native architecture for the C++ interface in which communication is done via shared memory between MLOS and the worker."
   ]
  },
  {
   "cell_type": "code",
   "execution_count": 8,
   "metadata": {},
   "outputs": [],
   "source": [
    "hit_rate_monitor = HitRateMonitor()\n",
    "smart_cache_experiment = MlosExperiment(\n",
    "    smart_component_types=[SmartCache],\n",
    "    telemetry_aggregators=[hit_rate_monitor]\n",
    ")\n",
    "mlos_agent.start_experiment(smart_cache_experiment)"
   ]
  },
  {
   "cell_type": "markdown",
   "metadata": {},
   "source": [
    "# Performing the optimization\n",
    "Now that we have all the pieces in place, we can iterate our main optimization loop.\n",
    "Our workload will run in the same process as this notebook, but in a separate thread, which we block on.\n",
    "In a real example, the workload might run completely independent of our optimization procedure.\n",
    "\n",
    "We run the optimization for 20 iterations, in each of which we obtain a new configuration from the optimizer (that interfaces the remote optimizer service).\n",
    "The configuration is passed to ``SmartCacheWorkloadGenerator`` via the ``MlosAgent``, after which we start a blocking workload for 0.2 seconds.\n",
    "Then, the hit-rate (our objective) is read from the ``HitRateMonitor`` and the suggested configuration together with the resulting hit-rate are passed to the optimizer."
   ]
  },
  {
   "cell_type": "code",
   "execution_count": 9,
   "metadata": {
    "scrolled": true
   },
   "outputs": [
    {
     "name": "stdout",
     "output_type": "stream",
     "text": [
      "[1/100] current_config: {\"implementation\": \"MRU\", \"mru_cache_config.cache_size\": 622}, hit_rate: 0.2711987772566272\n",
      "[2/100] current_config: {\"implementation\": \"MRU\", \"mru_cache_config.cache_size\": 972}, hit_rate: 0.44693908865918586\n",
      "[3/100] current_config: {\"implementation\": \"LRU\", \"lru_cache_config.cache_size\": 3096}, hit_rate: 0.950029279720134\n",
      "[4/100] current_config: {\"implementation\": \"LRU\", \"lru_cache_config.cache_size\": 340}, hit_rate: 3.369272236061566e-10\n",
      "[5/100] current_config: {\"implementation\": \"LRU\", \"lru_cache_config.cache_size\": 2304}, hit_rate: 0.9452783988090792\n",
      "[6/100] current_config: {\"implementation\": \"MRU\", \"mru_cache_config.cache_size\": 1284}, hit_rate: 0.5766999019460322\n",
      "[7/100] current_config: {\"implementation\": \"MRU\", \"mru_cache_config.cache_size\": 3185}, hit_rate: 0.9508625446879516\n",
      "[8/100] current_config: {\"implementation\": \"MRU\", \"mru_cache_config.cache_size\": 2266}, hit_rate: 0.9448231268705762\n",
      "[9/100] current_config: {\"implementation\": \"LRU\", \"lru_cache_config.cache_size\": 2905}, hit_rate: 0.9501751654352332\n",
      "[10/100] current_config: {\"implementation\": \"LRU\", \"lru_cache_config.cache_size\": 2134}, hit_rate: 0.9434691398933568\n",
      "[11/100] current_config: {\"implementation\": \"LRU\", \"lru_cache_config.cache_size\": 2763.0}, hit_rate: 0.9499327710561073\n",
      "[12/100] current_config: {\"implementation\": \"MRU\", \"mru_cache_config.cache_size\": 3259}, hit_rate: 0.9466360935966794\n",
      "[13/100] current_config: {\"implementation\": \"LRU\", \"lru_cache_config.cache_size\": 2425.0}, hit_rate: 0.9508424943605481\n",
      "[14/100] current_config: {\"implementation\": \"MRU\", \"mru_cache_config.cache_size\": 2533.0}, hit_rate: 0.9434566537840018\n",
      "[15/100] current_config: {\"implementation\": \"MRU\", \"mru_cache_config.cache_size\": 1409.0}, hit_rate: 0.6376114281586808\n",
      "[16/100] current_config: {\"implementation\": \"MRU\", \"mru_cache_config.cache_size\": 3987.0}, hit_rate: 0.9403853990819007\n",
      "[17/100] current_config: {\"implementation\": \"MRU\", \"mru_cache_config.cache_size\": 1565}, hit_rate: 0.7103709311237558\n",
      "[18/100] current_config: {\"implementation\": \"MRU\", \"mru_cache_config.cache_size\": 1993.0}, hit_rate: 0.9212222046183589\n",
      "[19/100] current_config: {\"implementation\": \"MRU\", \"mru_cache_config.cache_size\": 199.0}, hit_rate: 0.09266564156631239\n",
      "[20/100] current_config: {\"implementation\": \"MRU\", \"mru_cache_config.cache_size\": 3498}, hit_rate: 0.9460967521201743\n",
      "[21/100] current_config: {\"implementation\": \"LRU\", \"lru_cache_config.cache_size\": 827.0}, hit_rate: 5.017561462610355e-10\n",
      "[22/100] current_config: {\"implementation\": \"MRU\", \"mru_cache_config.cache_size\": 3792.0}, hit_rate: 0.9541485693826591\n",
      "[23/100] current_config: {\"implementation\": \"LRU\", \"lru_cache_config.cache_size\": 2485}, hit_rate: 0.9431490117715093\n",
      "[24/100] current_config: {\"implementation\": \"MRU\", \"mru_cache_config.cache_size\": 84.0}, hit_rate: 0.038803179119828814\n",
      "[25/100] current_config: {\"implementation\": \"LRU\", \"lru_cache_config.cache_size\": 1105}, hit_rate: 5.099439059102785e-10\n",
      "[26/100] current_config: {\"implementation\": \"MRU\", \"mru_cache_config.cache_size\": 2689.0}, hit_rate: 0.9447755157086484\n",
      "[27/100] current_config: {\"implementation\": \"MRU\", \"mru_cache_config.cache_size\": 1999.0}, hit_rate: 0.9253549590650494\n",
      "[28/100] current_config: {\"implementation\": \"LRU\", \"lru_cache_config.cache_size\": 3515}, hit_rate: 0.947944996569963\n",
      "[29/100] current_config: {\"implementation\": \"LRU\", \"lru_cache_config.cache_size\": 1426}, hit_rate: 4.679457180777044e-10\n",
      "[30/100] current_config: {\"implementation\": \"MRU\", \"mru_cache_config.cache_size\": 1422.0}, hit_rate: 0.6399613121769985\n",
      "[31/100] current_config: {\"implementation\": \"MRU\", \"mru_cache_config.cache_size\": 1512}, hit_rate: 0.6877467618034305\n",
      "[32/100] current_config: {\"implementation\": \"LRU\", \"lru_cache_config.cache_size\": 1182}, hit_rate: 4.894762601617834e-10\n",
      "[33/100] current_config: {\"implementation\": \"LRU\", \"lru_cache_config.cache_size\": 2663.0}, hit_rate: 0.9431931654292912\n",
      "[34/100] current_config: {\"implementation\": \"LRU\", \"lru_cache_config.cache_size\": 867}, hit_rate: 5.078720159939705e-10\n",
      "[35/100] current_config: {\"implementation\": \"LRU\", \"lru_cache_config.cache_size\": 2397}, hit_rate: 0.9474265177782717\n",
      "[36/100] current_config: {\"implementation\": \"MRU\", \"mru_cache_config.cache_size\": 3806}, hit_rate: 0.9415107810954874\n",
      "[37/100] current_config: {\"implementation\": \"LRU\", \"lru_cache_config.cache_size\": 1892}, hit_rate: 4.1684034997213827e-10\n",
      "[38/100] current_config: {\"implementation\": \"LRU\", \"lru_cache_config.cache_size\": 1770.0}, hit_rate: 4.336513441311139e-10\n",
      "[39/100] current_config: {\"implementation\": \"LRU\", \"lru_cache_config.cache_size\": 1761.0}, hit_rate: 4.336513441311139e-10\n",
      "[40/100] current_config: {\"implementation\": \"LRU\", \"lru_cache_config.cache_size\": 1849.0}, hit_rate: 4.206983590994117e-10\n",
      "[41/100] current_config: {\"implementation\": \"LRU\", \"lru_cache_config.cache_size\": 1757.0}, hit_rate: 4.374453191437247e-10\n",
      "[42/100] current_config: {\"implementation\": \"LRU\", \"lru_cache_config.cache_size\": 1851.0}, hit_rate: 4.1718815168244133e-10\n",
      "[43/100] current_config: {\"implementation\": \"LRU\", \"lru_cache_config.cache_size\": 1840.0}, hit_rate: 4.1701417830816754e-10\n",
      "[44/100] current_config: {\"implementation\": \"MRU\", \"mru_cache_config.cache_size\": 3477}, hit_rate: 0.9398443236910018\n",
      "[45/100] current_config: {\"implementation\": \"LRU\", \"lru_cache_config.cache_size\": 1642.0}, hit_rate: 4.4603032986350117e-10\n",
      "[46/100] current_config: {\"implementation\": \"LRU\", \"lru_cache_config.cache_size\": 3418}, hit_rate: 0.9523809523820596\n",
      "[47/100] current_config: {\"implementation\": \"LRU\", \"lru_cache_config.cache_size\": 1795.0}, hit_rate: 4.315925764214102e-10\n",
      "[48/100] current_config: {\"implementation\": \"LRU\", \"lru_cache_config.cache_size\": 1803.0}, hit_rate: 4.4208664878776013e-10\n",
      "[49/100] current_config: {\"implementation\": \"LRU\", \"lru_cache_config.cache_size\": 1629.0}, hit_rate: 4.5413260651492617e-10\n",
      "[50/100] current_config: {\"implementation\": \"LRU\", \"lru_cache_config.cache_size\": 1066}, hit_rate: 4.975124375634266e-10\n",
      "[51/100] current_config: {\"implementation\": \"MRU\", \"mru_cache_config.cache_size\": 2699}, hit_rate: 0.9538946420541672\n",
      "[52/100] current_config: {\"implementation\": \"LRU\", \"lru_cache_config.cache_size\": 1637.0}, hit_rate: 4.4802867363439573e-10\n",
      "[53/100] current_config: {\"implementation\": \"LRU\", \"lru_cache_config.cache_size\": 2058.0}, hit_rate: 0.9467789298628732\n",
      "[54/100] current_config: {\"implementation\": \"MRU\", \"mru_cache_config.cache_size\": 2766}, hit_rate: 0.9514300621365216\n",
      "[55/100] current_config: {\"implementation\": \"LRU\", \"lru_cache_config.cache_size\": 3839}, hit_rate: 0.9465288112595878\n",
      "[56/100] current_config: {\"implementation\": \"MRU\", \"mru_cache_config.cache_size\": 2311}, hit_rate: 0.9506517915242849\n",
      "[57/100] current_config: {\"implementation\": \"MRU\", \"mru_cache_config.cache_size\": 2537}, hit_rate: 0.9428571428587372\n",
      "[58/100] current_config: {\"implementation\": \"LRU\", \"lru_cache_config.cache_size\": 2982}, hit_rate: 0.9528859647115672\n",
      "[59/100] current_config: {\"implementation\": \"LRU\", \"lru_cache_config.cache_size\": 2024.0}, hit_rate: 3.974562796512495e-10\n",
      "[60/100] current_config: {\"implementation\": \"MRU\", \"mru_cache_config.cache_size\": 1759}, hit_rate: 0.8078935754426615\n",
      "[61/100] current_config: {\"implementation\": \"MRU\", \"mru_cache_config.cache_size\": 1567}, hit_rate: 0.713452311101058\n",
      "[62/100] current_config: {\"implementation\": \"LRU\", \"lru_cache_config.cache_size\": 2061.0}, hit_rate: 0.9536462812920726\n",
      "[63/100] current_config: {\"implementation\": \"LRU\", \"lru_cache_config.cache_size\": 2570}, hit_rate: 0.944071221805012\n",
      "[64/100] current_config: {\"implementation\": \"LRU\", \"lru_cache_config.cache_size\": 2040.0}, hit_rate: 4.008016030457709e-10\n",
      "[65/100] current_config: {\"implementation\": \"MRU\", \"mru_cache_config.cache_size\": 2813}, hit_rate: 0.9498395748132494\n",
      "[66/100] current_config: {\"implementation\": \"LRU\", \"lru_cache_config.cache_size\": 2086.0}, hit_rate: 0.9470623206775645\n",
      "[67/100] current_config: {\"implementation\": \"LRU\", \"lru_cache_config.cache_size\": 2098.0}, hit_rate: 0.9518548121690757\n",
      "[68/100] current_config: {\"implementation\": \"LRU\", \"lru_cache_config.cache_size\": 2051.0}, hit_rate: 0.9438919481673408\n",
      "[69/100] current_config: {\"implementation\": \"LRU\", \"lru_cache_config.cache_size\": 2030.0}, hit_rate: 3.996802556356194e-10\n",
      "[70/100] current_config: {\"implementation\": \"LRU\", \"lru_cache_config.cache_size\": 3472}, hit_rate: 0.9466861040259622\n",
      "[71/100] current_config: {\"implementation\": \"LRU\", \"lru_cache_config.cache_size\": 2065.0}, hit_rate: 0.9452142742511044\n",
      "[72/100] current_config: {\"implementation\": \"LRU\", \"lru_cache_config.cache_size\": 2415}, hit_rate: 0.9476054031941362\n",
      "[73/100] current_config: {\"implementation\": \"LRU\", \"lru_cache_config.cache_size\": 1990}, hit_rate: 4.0535062812916475e-10\n",
      "[74/100] current_config: {\"implementation\": \"MRU\", \"mru_cache_config.cache_size\": 1404.0}, hit_rate: 0.6294584772924107\n",
      "[75/100] current_config: {\"implementation\": \"LRU\", \"lru_cache_config.cache_size\": 2047.0}, hit_rate: 3.9777247398656626e-10\n",
      "[76/100] current_config: {\"implementation\": \"LRU\", \"lru_cache_config.cache_size\": 2048.0}, hit_rate: 0.9523898084444767\n",
      "[77/100] current_config: {\"implementation\": \"MRU\", \"mru_cache_config.cache_size\": 1351.0}, hit_rate: 0.6082196542007029\n",
      "[78/100] current_config: {\"implementation\": \"MRU\", \"mru_cache_config.cache_size\": 3739}, hit_rate: 0.945553635519193\n",
      "[79/100] current_config: {\"implementation\": \"MRU\", \"mru_cache_config.cache_size\": 2795}, hit_rate: 0.9494458295290304\n",
      "[80/100] current_config: {\"implementation\": \"MRU\", \"mru_cache_config.cache_size\": 1685.0}, hit_rate: 0.7546493390206297\n",
      "[81/100] current_config: {\"implementation\": \"LRU\", \"lru_cache_config.cache_size\": 1449}, hit_rate: 4.716981129850481e-10\n",
      "[82/100] current_config: {\"implementation\": \"LRU\", \"lru_cache_config.cache_size\": 332}, hit_rate: 3.598416695358612e-10\n",
      "[83/100] current_config: {\"implementation\": \"MRU\", \"mru_cache_config.cache_size\": 1731.0}, hit_rate: 0.7991008191230184\n",
      "[84/100] current_config: {\"implementation\": \"LRU\", \"lru_cache_config.cache_size\": 2048.0}, hit_rate: 0.9485142541116066\n",
      "[85/100] current_config: {\"implementation\": \"MRU\", \"mru_cache_config.cache_size\": 3611}, hit_rate: 0.9451878813846165\n",
      "[86/100] current_config: {\"implementation\": \"MRU\", \"mru_cache_config.cache_size\": 3935}, hit_rate: 0.951621666313476\n",
      "[87/100] current_config: {\"implementation\": \"MRU\", \"mru_cache_config.cache_size\": 1600}, hit_rate: 0.7125431421818097\n",
      "[88/100] current_config: {\"implementation\": \"LRU\", \"lru_cache_config.cache_size\": 109}, hit_rate: 1.809954750803628e-10\n",
      "[89/100] current_config: {\"implementation\": \"LRU\", \"lru_cache_config.cache_size\": 3035}, hit_rate: 0.9381044487446173\n",
      "[90/100] current_config: {\"implementation\": \"MRU\", \"mru_cache_config.cache_size\": 4017}, hit_rate: 0.9406789479799363\n",
      "[91/100] current_config: {\"implementation\": \"MRU\", \"mru_cache_config.cache_size\": 1724.0}, hit_rate: 0.7753926466056706\n",
      "[92/100] current_config: {\"implementation\": \"MRU\", \"mru_cache_config.cache_size\": 3133}, hit_rate: 0.9545121382414652\n",
      "[93/100] current_config: {\"implementation\": \"LRU\", \"lru_cache_config.cache_size\": 2049.0}, hit_rate: 0.9476348759921341\n",
      "[94/100] current_config: {\"implementation\": \"MRU\", \"mru_cache_config.cache_size\": 2415}, hit_rate: 0.9453954034035782\n",
      "[95/100] current_config: {\"implementation\": \"MRU\", \"mru_cache_config.cache_size\": 883}, hit_rate: 0.3905961295638143\n",
      "[96/100] current_config: {\"implementation\": \"LRU\", \"lru_cache_config.cache_size\": 1247}, hit_rate: 4.901960781910803e-10\n",
      "[97/100] current_config: {\"implementation\": \"MRU\", \"mru_cache_config.cache_size\": 1706.0}, hit_rate: 0.7669576286703511\n",
      "[98/100] current_config: {\"implementation\": \"MRU\", \"mru_cache_config.cache_size\": 1703.0}, hit_rate: 0.7777270056864767\n",
      "[99/100] current_config: {\"implementation\": \"LRU\", \"lru_cache_config.cache_size\": 629}, hit_rate: 4.653327126731816e-10\n",
      "[100/100] current_config: {\"implementation\": \"LRU\", \"lru_cache_config.cache_size\": 2048.0}, hit_rate: 0.9480374495737945\n"
     ]
    }
   ],
   "source": [
    "num_iterations = 100\n",
    "data = []\n",
    "for i in range(num_iterations):\n",
    "    # suggest runs a 'cheap' search on the surrogate model to find a good candidate configuration\n",
    "    new_config_values = optimizer.suggest()\n",
    "    # set_configuration communicates the proposed configuration to the SmartCache\n",
    "    mlos_agent.set_configuration(component_type=SmartCache, new_config_values=new_config_values)\n",
    "    hit_rate_monitor.reset()\n",
    "    # start_workload will actually run the worker, here for 0.2 seconds\n",
    "    workload_launcher.start_workload(duration_s=0.2, block=True)\n",
    "    # obtain hit-rate as quality measure for configuration\n",
    "    hit_rate = hit_rate_monitor.get_hit_rate()\n",
    "    objectives_df = pd.DataFrame({'hit_rate': [hit_rate]})\n",
    "    # pass configuration and observed hit-rate to the optimizer to update the surrogate model\n",
    "    features_df = new_config_values.to_dataframe()\n",
    "    optimizer.register(features_df, objectives_df)\n",
    "    data.append((features_df, objectives_df))\n",
    "    print(f\"[{i+1}/{num_iterations}] current_config: {new_config_values}, hit_rate: {hit_rate}\")"
   ]
  },
  {
   "cell_type": "markdown",
   "metadata": {},
   "source": [
    "# Analyzing results\n",
    "\n",
    "For a cyclical workload with 2048 keys, we assume that a MRU cache with a size of at least 2048 will perform best, and get 100% hits once the cache is filled.\n",
    "Now lets see the suggestions and results from the current experiment."
   ]
  },
  {
   "cell_type": "code",
   "execution_count": 10,
   "metadata": {},
   "outputs": [
    {
     "data": {
      "text/html": [
       "<div>\n",
       "<style scoped>\n",
       "    .dataframe tbody tr th:only-of-type {\n",
       "        vertical-align: middle;\n",
       "    }\n",
       "\n",
       "    .dataframe tbody tr th {\n",
       "        vertical-align: top;\n",
       "    }\n",
       "\n",
       "    .dataframe thead th {\n",
       "        text-align: right;\n",
       "    }\n",
       "</style>\n",
       "<table border=\"1\" class=\"dataframe\">\n",
       "  <thead>\n",
       "    <tr style=\"text-align: right;\">\n",
       "      <th></th>\n",
       "      <th>implementation</th>\n",
       "      <th>mru_cache_config.cache_size</th>\n",
       "      <th>lru_cache_config.cache_size</th>\n",
       "      <th>hit_rate</th>\n",
       "    </tr>\n",
       "  </thead>\n",
       "  <tbody>\n",
       "    <tr>\n",
       "      <th>0</th>\n",
       "      <td>MRU</td>\n",
       "      <td>622.0</td>\n",
       "      <td>NaN</td>\n",
       "      <td>2.711988e-01</td>\n",
       "    </tr>\n",
       "    <tr>\n",
       "      <th>1</th>\n",
       "      <td>MRU</td>\n",
       "      <td>972.0</td>\n",
       "      <td>NaN</td>\n",
       "      <td>4.469391e-01</td>\n",
       "    </tr>\n",
       "    <tr>\n",
       "      <th>2</th>\n",
       "      <td>LRU</td>\n",
       "      <td>NaN</td>\n",
       "      <td>3096.0</td>\n",
       "      <td>9.500293e-01</td>\n",
       "    </tr>\n",
       "    <tr>\n",
       "      <th>3</th>\n",
       "      <td>LRU</td>\n",
       "      <td>NaN</td>\n",
       "      <td>340.0</td>\n",
       "      <td>3.369272e-10</td>\n",
       "    </tr>\n",
       "    <tr>\n",
       "      <th>4</th>\n",
       "      <td>LRU</td>\n",
       "      <td>NaN</td>\n",
       "      <td>2304.0</td>\n",
       "      <td>9.452784e-01</td>\n",
       "    </tr>\n",
       "    <tr>\n",
       "      <th>...</th>\n",
       "      <td>...</td>\n",
       "      <td>...</td>\n",
       "      <td>...</td>\n",
       "      <td>...</td>\n",
       "    </tr>\n",
       "    <tr>\n",
       "      <th>95</th>\n",
       "      <td>LRU</td>\n",
       "      <td>NaN</td>\n",
       "      <td>1247.0</td>\n",
       "      <td>4.901961e-10</td>\n",
       "    </tr>\n",
       "    <tr>\n",
       "      <th>96</th>\n",
       "      <td>MRU</td>\n",
       "      <td>1706.0</td>\n",
       "      <td>NaN</td>\n",
       "      <td>7.669576e-01</td>\n",
       "    </tr>\n",
       "    <tr>\n",
       "      <th>97</th>\n",
       "      <td>MRU</td>\n",
       "      <td>1703.0</td>\n",
       "      <td>NaN</td>\n",
       "      <td>7.777270e-01</td>\n",
       "    </tr>\n",
       "    <tr>\n",
       "      <th>98</th>\n",
       "      <td>LRU</td>\n",
       "      <td>NaN</td>\n",
       "      <td>629.0</td>\n",
       "      <td>4.653327e-10</td>\n",
       "    </tr>\n",
       "    <tr>\n",
       "      <th>99</th>\n",
       "      <td>LRU</td>\n",
       "      <td>NaN</td>\n",
       "      <td>2048.0</td>\n",
       "      <td>9.480374e-01</td>\n",
       "    </tr>\n",
       "  </tbody>\n",
       "</table>\n",
       "<p>100 rows × 4 columns</p>\n",
       "</div>"
      ],
      "text/plain": [
       "   implementation  mru_cache_config.cache_size  lru_cache_config.cache_size  \\\n",
       "0             MRU                        622.0                          NaN   \n",
       "1             MRU                        972.0                          NaN   \n",
       "2             LRU                          NaN                       3096.0   \n",
       "3             LRU                          NaN                        340.0   \n",
       "4             LRU                          NaN                       2304.0   \n",
       "..            ...                          ...                          ...   \n",
       "95            LRU                          NaN                       1247.0   \n",
       "96            MRU                       1706.0                          NaN   \n",
       "97            MRU                       1703.0                          NaN   \n",
       "98            LRU                          NaN                        629.0   \n",
       "99            LRU                          NaN                       2048.0   \n",
       "\n",
       "        hit_rate  \n",
       "0   2.711988e-01  \n",
       "1   4.469391e-01  \n",
       "2   9.500293e-01  \n",
       "3   3.369272e-10  \n",
       "4   9.452784e-01  \n",
       "..           ...  \n",
       "95  4.901961e-10  \n",
       "96  7.669576e-01  \n",
       "97  7.777270e-01  \n",
       "98  4.653327e-10  \n",
       "99  9.480374e-01  \n",
       "\n",
       "[100 rows x 4 columns]"
      ]
     },
     "execution_count": 10,
     "metadata": {},
     "output_type": "execute_result"
    }
   ],
   "source": [
    "# some pandas wrangling\n",
    "\n",
    "features, targets = zip(*data)\n",
    "data = pd.concat(features, ignore_index=True)\n",
    "data['hit_rate'] = pd.concat(targets, ignore_index=True)\n",
    "data"
   ]
  },
  {
   "cell_type": "code",
   "execution_count": 11,
   "metadata": {},
   "outputs": [
    {
     "data": {
      "text/plain": [
       "<matplotlib.legend.Legend at 0x7f89307c8410>"
      ]
     },
     "execution_count": 11,
     "metadata": {},
     "output_type": "execute_result"
    },
    {
     "data": {
      "image/png": "[encoded data removed]",
      "text/plain": [
       "<Figure size 432x288 with 1 Axes>"
      ]
     },
     "metadata": {
      "needs_background": "light"
     },
     "output_type": "display_data"
    }
   ],
   "source": [
    "# group by implementation, then plot\n",
    "lru_data, mru_data = data.groupby('implementation')\n",
    "\n",
    "import matplotlib.pyplot as plt\n",
    "line_lru = lru_data[1].plot(x='lru_cache_config.cache_size', y='hit_rate', label='LRU', marker='o', linestyle='none', alpha=.6)\n",
    "mru_data[1].plot(x='mru_cache_config.cache_size', y='hit_rate', label='MRU', marker='o', linestyle='none', alpha=.6, ax=plt.gca())\n",
    "plt.ylabel(\"Cache hitrate\")\n",
    "plt.xlabel(\"Cache Size\")\n",
    "plt.legend()"
   ]
  },
  {
   "cell_type": "markdown",
   "metadata": {},
   "source": [
    "We can see that if the cache size is over 2048 keys, it means everything can fit into the cache and the strategy does not matter.\n",
    "However, for smaller cache sizes, the MRU strategy has an obvious advantage over the LRU strategy."
   ]
  },
  {
   "cell_type": "markdown",
   "metadata": {},
   "source": [
    "# Going Further\n",
    "\n",
    "1) Log how the optimum evolves over time. How many iterations are needed?\n",
    "\n",
    "2) Can you adjust options in the Optimizer to improve convergence (see the BayesianOptimization notebook for suggestions).\n",
    "\n",
    "3) Choose a different workload in the ``SmartCacheWorkloadGenerator``. How do the workloads change the optimum strategy?"
   ]
  },
  {
   "cell_type": "markdown",
   "metadata": {},
   "source": [
    "# Clean up\n",
    "We need to stop all processes & separate threads after running the experiments:"
   ]
  },
  {
   "cell_type": "code",
   "execution_count": 12,
   "metadata": {},
   "outputs": [],
   "source": [
    "# Clean up\n",
    "#\n",
    "mlos_agent.stop_experiment(smart_cache_experiment)\n",
    "mlos_agent.stop_all()\n",
    "\n",
    "# Stop the optimizer service\n",
    "import signal\n",
    "optimizer_microservice.send_signal(signal.SIGTERM)"
   ]
  }
 ],
 "metadata": {
  "kernelspec": {
   "display_name": "Python 3",
   "language": "python",
   "name": "python3"
  },
  "language_info": {
   "codemirror_mode": {
    "name": "ipython",
    "version": 3
   },
   "file_extension": ".py",
   "mimetype": "text/x-python",
   "name": "python",
   "nbconvert_exporter": "python",
   "pygments_lexer": "ipython3",
   "version": "3.7.9"
  }
 },
 "nbformat": 4,
 "nbformat_minor": 4
}
