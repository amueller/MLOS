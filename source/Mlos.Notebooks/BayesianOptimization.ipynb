{
 "cells": [
  {
   "cell_type": "code",
   "execution_count": 1,
   "metadata": {},
   "outputs": [],
   "source": [
    "import matplotlib.pyplot as plt\n",
    "import numpy as np\n",
    "import pandas as pd"
   ]
  },
  {
   "cell_type": "markdown",
   "metadata": {},
   "source": [
    "# Bayesian Optimization"
   ]
  },
  {
   "cell_type": "markdown",
   "metadata": {},
   "source": [
    "This notebook demonstrates the basic principles of [Bayesian Optimization (BO)](https://en.wikipedia.org/wiki/Bayesian_optimization) and how to use MLOS to perform BO.\n",
    "\n",
    "## Motivation\n",
    "\n",
    "In software performance engineering, the impact different (input) parameters (e.g. buffer size, worker thread count, etc.) can have on the (output) performance of a system for a given workload (input) can be modeled as a multidimensional function - one which we don't know the equation for apriori, but are instead trying to learn through careful sampling of the input space and experimentation (test/benchmark runs) to gather output points.\n",
    "Bayesian optimization is one technique for efficiently selecting the samples in the input space to learn the approximate shape of that function and find its optimum, i.,e. the parameters that lead to the best performance.\n",
    "In this example we use a synthetic (i.e. made-up) function that we can look at directly to stand in for a complex system with unknown characteristics.\n",
    "\n",
    "Bayesian Optimization is a [global optimization](https://en.wikipedia.org/wiki/Global_optimization) strategy, so a way to find the global optimum of a mathematical function that's not necessarily [convex](https://en.wikipedia.org/wiki/Convex_function). BO is a black-box optimization technique, meaning that it requires only function values and no other information like gradients.\n",
    "\n",
    "This is in contrast to other optimization strategies, such as gradient descent or conjugate gradient that require gradients and are only guaranteed to find a local optimum (if the function is assumed to be convex, this is also the global optimum).\n",
    "\n",
    "Finding the global optimum of a general non-convex function is NP-hard, which makes it impossible to provide effective convergence guarantees for any global optimization strategy, including Bayesian Optimization. However, BO has been found to be quite effective in the past."
   ]
  },
  {
   "cell_type": "markdown",
   "metadata": {},
   "source": [
    "## A synthetic example"
   ]
  },
  {
   "cell_type": "markdown",
   "metadata": {},
   "source": [
    "Let's take a simple synthetic example of a one-dimensional function that we assume is unknown.\n",
    "If we actually had access to the function, we could use more efficient techniques using calculus and would not be using Bayesian Optimization."
   ]
  },
  {
   "cell_type": "code",
   "execution_count": 2,
   "metadata": {},
   "outputs": [],
   "source": [
    "# define fake performance function\n",
    "# In an actual application, we would not have access to this function directly.\n",
    "# Instead, we could only measure the outcome by running an experiment, such as timing\n",
    "# a particular run of the system.\n",
    "def f(x):\n",
    "    return (6*x-2)**2*np.sin(12*x-4)"
   ]
  },
  {
   "cell_type": "markdown",
   "metadata": {},
   "source": [
    "In a real use case for global optimization, the function we want to optimize is usually only implicitly defined and very expensive to compute, such as training and evaluating a neural network, or timing the run of a large workload on a distributed database. Given the cost of evaluating the function, our goal is to find an optimum while keeping the number of function evaluations to a minimum.\n",
    "\n",
    "In this synthetic example, we actually know the function, so we can just plot it for illustration purposes:"
   ]
  },
  {
   "cell_type": "code",
   "execution_count": 3,
   "metadata": {},
   "outputs": [
    {
     "data": {
      "text/plain": [
       "Text(0, 0.5, 'Objective (i.e. performance)')"
      ]
     },
     "execution_count": 3,
     "metadata": {},
     "output_type": "execute_result"
    },
    {
     "data": {
      "image/png": "[encoded data removed]",
      "text/plain": [
       "<Figure size 432x288 with 1 Axes>"
      ]
     },
     "metadata": {
      "needs_background": "light"
     },
     "output_type": "display_data"
    }
   ],
   "source": [
    "# define a domain to evaluate\n",
    "line = np.linspace(0, 1)\n",
    "# evaluate function\n",
    "values = f(line)\n",
    "# plot function\n",
    "plt.plot(line, values)\n",
    "plt.xlabel(\"Input (parameter)\")\n",
    "plt.ylabel(\"Objective (i.e. performance)\")"
   ]
  },
  {
   "cell_type": "markdown",
   "metadata": {},
   "source": [
    "Our goal here is to find the global minimum of this function, assuming that we don't have direct access to the formula (given the formula, we could instead calculate the optimum quite precicely using methods from calculus instead). Usually, the function is too expensive to evaluate in such a manner, in particular in higher-dimensional spaces.\n",
    "\n",
    "Now, we use MLOS to construct an OptimizationProblem object that will encapsulate the function and the input space."
   ]
  },
  {
   "cell_type": "code",
   "execution_count": 4,
   "metadata": {},
   "outputs": [],
   "source": [
    "from mlos.Optimizers.OptimizationProblem import OptimizationProblem, Objective\n",
    "from mlos.Optimizers.BayesianOptimizer import BayesianOptimizer\n",
    "from mlos.Spaces import SimpleHypergrid, ContinuousDimension\n",
    "\n",
    "# single continuous input dimension between 0 and 1\n",
    "input_space = SimpleHypergrid(name=\"input\", dimensions=[ContinuousDimension(name=\"x\", min=0, max=1)])\n",
    "# define output space, we might not know the exact ranges\n",
    "output_space = SimpleHypergrid(name=\"objective\",\n",
    "                               dimensions=[ContinuousDimension(name=\"function_value\", min=-10, max=10)])\n",
    "\n",
    "# define optimization problem with input and output space and objective\n",
    "optimization_problem = OptimizationProblem(\n",
    "    parameter_space=input_space,\n",
    "    objective_space=output_space,\n",
    "    # we want to minimize the function\n",
    "    objectives=[Objective(name=\"function_value\", minimize=True)]\n",
    ")"
   ]
  },
  {
   "cell_type": "markdown",
   "metadata": {},
   "source": [
    "The way Bayesian Optimization (in particular what is known as sequential model-based optimization) works is by iterating the following steps:\n",
    "- Evaluate the function at a candidate point x_i (start with a random point x_0), observe f(x_i).\n",
    "- Build / update a **surrogate model** g_i of the objective function (here a Random Forest) using the pairs x_i, f(x_i) that we observed so far.\n",
    "- Pick the next data point to evaluate based on the updated model g_i using a criterion known as **acquisition function**.\n",
    "\n",
    "The idea is that eventually the surrogate model will provide a good approximation of the objective function, but it will be much faster to evaluate (i.e. by predicting with a Random Forest or Gaussian process or another trained machine learning model, instead of running a complex deployment). The acquisition function serves as a means to trade off exploration vs exploitation in collecting new data for building the surrogate model: it picks points that have a low (close to optimum) value of the surrogate model (and so are expected to have a low value of the actual objective). This is the \"exploitation\" of existing knowledge in the model. On the other hand, it also encourages exploring new areas in which there is a lot of uncertainty in the surrogate model, i.e. where we expect the surrogate model not to be very acurate yet."
   ]
  },
  {
   "cell_type": "markdown",
   "metadata": {},
   "source": [
    "This process is coordinated by the ``BayesianOptimizer`` object, which we will use to perform Bayesian Optimization with a random forest surrogate model. Details of this particular method can be found in [Hutter et. al. (2011)](https://www.cs.ubc.ca/~hutter/papers/11-LION5-SMAC.pdf). We're first configuring the model to refit after every iteration and use 10 trees for the random forest:"
   ]
  },
  {
   "cell_type": "code",
   "execution_count": 5,
   "metadata": {},
   "outputs": [],
   "source": [
    "from mlos.Optimizers.BayesianOptimizer import BayesianOptimizer, BayesianOptimizerConfig\n",
    "from mlos.Optimizers.RegressionModels.HomogeneousRandomForestRegressionModel import \\\n",
    "    HomogeneousRandomForestRegressionModelConfig\n",
    "from mlos.Spaces import Point\n",
    "\n",
    "# configure the optimizer, start from the default configuration\n",
    "optimizer_config = BayesianOptimizerConfig.DEFAULT\n",
    "# set the fraction of randomly sampled configuration to 10% of suggestions\n",
    "optimizer_config.experiment_designer_config_fraction_random_suggestions = .1\n",
    "# configure the random forest surrogate model\n",
    "random_forest_config = optimizer_config.homogeneous_random_forest_regression_model_config\n",
    "# refit the model after each observation\n",
    "random_forest_config.decision_tree_regression_model_config.n_new_samples_before_refit = 1\n",
    "# Use the best split in trees (not random as in extremely randomized trees)\n",
    "random_forest_config.decision_tree_regression_model_config.splitter = 'best'\n",
    "# right now we're sampling without replacement so we need to subsample\n",
    "# to make the trees different when using the 'best' splitter\n",
    "random_forest_config.samples_fraction_per_estimator = .9\n",
    "# Use 10 trees in the random forest (usually more are better, 10 makes it run pretty quickly)\n",
    "random_forest_config.n_estimators = 10\n",
    "# Set multiplier for the confidence bound\n",
    "optimizer_config.experiment_designer_config.confidence_bound_utility_function_config.alpha = 0.1\n",
    "\n",
    "optimizer = BayesianOptimizer(optimization_problem, optimizer_config)"
   ]
  },
  {
   "cell_type": "markdown",
   "metadata": {},
   "source": [
    "Now, we can run the actual optimization which will carry out the steps outlined above."
   ]
  },
  {
   "cell_type": "code",
   "execution_count": 6,
   "metadata": {},
   "outputs": [
    {
     "name": "stdout",
     "output_type": "stream",
     "text": [
      "{\"x\": 0.6350194509373203} -1.5090781466343322\n",
      "{\"x\": 0.4833314225678864} 0.7888007039876634\n",
      "{\"x\": 0.3085652297590896} -0.006467686393448306\n",
      "{\"x\": 0.7934881245747} -5.258792311690227\n",
      "{\"x\": 0.5424135078669235} 0.9304923147369428\n",
      "{\"x\": 0.7775373724572233} -5.789318939077864\n",
      "{\"x\": 0.49936454028751} 0.9054996989024285\n",
      "{\"x\": 0.06384891819327099} 0.24075799315918184\n",
      "{\"x\": 0.8668798253736468} 1.2204493355601116\n",
      "{\"x\": 0.8348012963408397} -2.376022242163278\n",
      "{\"x\": 0.46557222174762747} 0.6294551610056368\n",
      "{\"x\": 0.8540084233800393} -0.34234099656885403\n",
      "{\"x\": 0.7535841364871388} -6.013644622699922\n",
      "{\"x\": 0.6480597388086902} -2.1155668297862786\n",
      "{\"x\": 0.7022704881552336} -4.702266238788845\n"
     ]
    }
   ],
   "source": [
    "def run_optimization(optimizer):\n",
    "    # suggest new value from optimizer\n",
    "    suggested_value = optimizer.suggest()\n",
    "    input_values_df = suggested_value.to_dataframe()\n",
    "    # suggested value are dictionary-like, keys are input space parameter names\n",
    "    # evaluate target function\n",
    "    target_value = f(suggested_value['x'])\n",
    "    print(suggested_value, target_value)\n",
    "    \n",
    "    # build dataframes to \n",
    "    target_values_df = pd.DataFrame({'function_value': [target_value]})\n",
    "\n",
    "    optimizer.register(input_values_df, target_values_df)\n",
    "\n",
    "# run for some iterations\n",
    "n_iterations = 15\n",
    "for i in range(n_iterations):\n",
    "    run_optimization(optimizer)"
   ]
  },
  {
   "cell_type": "markdown",
   "metadata": {},
   "source": [
    "You can see that the hit rate is not always increasing, and that is for two reasons: first, the optimizer keeps exploring parts of the space in which there is uncertainty. Second, by default the BayesianOptimizer picks a fraction of points at random to increase exploration. This fraction is set as ``optimizer_config.experiment_designer_config_fraction_random_suggestions = .1`` above."
   ]
  },
  {
   "cell_type": "markdown",
   "metadata": {},
   "source": [
    "After 15 iterations, the model is likely to have captured the general shape, but probably not have found the actual optimum:"
   ]
  },
  {
   "cell_type": "code",
   "execution_count": 7,
   "metadata": {},
   "outputs": [
    {
     "data": {
      "text/plain": [
       "<matplotlib.legend.Legend at 0x7f9bf5d3d290>"
      ]
     },
     "execution_count": 7,
     "metadata": {},
     "output_type": "execute_result"
    },
    {
     "data": {
      "image/png": "[encoded data removed]",
      "text/plain": [
       "<Figure size 432x288 with 2 Axes>"
      ]
     },
     "metadata": {
      "needs_background": "light"
     },
     "output_type": "display_data"
    }
   ],
   "source": [
    "# evaluate the surrogate\n",
    "surrogate_predictions = optimizer.predict(pd.DataFrame({'x': line})).get_dataframe()\n",
    "# plot observations\n",
    "feature_values, target_values = optimizer.get_all_observations()\n",
    "plt.scatter(feature_values, target_values, label='observed points')\n",
    "plt.colorbar()\n",
    "# plot true function (usually unknown)\n",
    "plt.plot(line, values, label='true function')\n",
    "# plot the surrogate\n",
    "std = np.sqrt(surrogate_predictions['predicted_value_variance'])\n",
    "value = surrogate_predictions['predicted_value']\n",
    "plt.plot(line, value, label='surrogate predictions g')\n",
    "plt.fill_between(line, value - std, value + std, alpha=.1)\n",
    "plt.plot(line, -optimizer.experiment_designer.utility_function(pd.DataFrame({'x': line})), ':', label='utility_function')\n",
    "plt.ylabel(\"Objective function f (performance)\")\n",
    "plt.xlabel(\"Input variable\")\n",
    "plt.legend()"
   ]
  },
  {
   "cell_type": "markdown",
   "metadata": {},
   "source": [
    "We can find the best value according to the current surrogate with the ``optimum`` method:"
   ]
  },
  {
   "cell_type": "code",
   "execution_count": 8,
   "metadata": {},
   "outputs": [
    {
     "data": {
      "text/plain": [
       "{'function_value': -6.013644622699922, 'x': 0.7535841364871388}"
      ]
     },
     "execution_count": 8,
     "metadata": {},
     "output_type": "execute_result"
    }
   ],
   "source": [
    "optimizer.optimum()"
   ]
  },
  {
   "cell_type": "markdown",
   "metadata": {},
   "source": [
    "We can run more iterations to improve the surrogate model and the optimum that is found:"
   ]
  },
  {
   "cell_type": "code",
   "execution_count": 9,
   "metadata": {},
   "outputs": [
    {
     "name": "stdout",
     "output_type": "stream",
     "text": [
      "{\"x\": 0.9138097526221035} 7.6513054247779175\n",
      "{\"x\": 0.8519933557076289} -0.5736042495274603\n",
      "{\"x\": 0.8116302037144215} -4.259804404423071\n",
      "{\"x\": 0.7061887624896456} -4.863538957628715\n",
      "{\"x\": 0.8271713347768835} -3.0692033664681047\n",
      "{\"x\": 0.5130063235043972} 0.9687322335026826\n",
      "{\"x\": 0.7422479411334716} -5.905998171504055\n",
      "{\"x\": 0.7389280386304299} -5.851486258926377\n",
      "{\"x\": 0.21842022200345257} -0.4666600981927195\n",
      "{\"x\": 0.8079011368475868} -4.4998463792707915\n",
      "{\"x\": 0.3159406999497182} -0.0022564315697688768\n",
      "{\"x\": 0.6855611168640666} -3.949874452601847\n",
      "{\"x\": 0.3583178623844031} 0.006636991869173917\n",
      "{\"x\": 0.8076700064305192} -4.514134726460727\n",
      "{\"x\": 0.19431914963705388} -0.6924023729471288\n",
      "{\"x\": 0.9155076528544737} 7.887429046687405\n",
      "{\"x\": 0.72952210755324} -5.645805679770064\n",
      "{\"x\": 0.08958308888619892} -0.45965246794584275\n",
      "{\"x\": 0.4466815079148362} 0.4523002521853543\n",
      "{\"x\": 0.7182947120221115} -5.312047811508222\n",
      "{\"x\": 0.7816271142824207} -5.683653391485995\n",
      "{\"x\": 0.7818802851374435} -5.676433479870665\n",
      "{\"x\": 0.6756344614533965} -3.469953042279206\n",
      "{\"x\": 0.029841496254371824} 1.5906094607096881\n",
      "{\"x\": 0.5529266367728413} 0.8421092350708904\n",
      "{\"x\": 0.3261167441893573} -0.0001621573836265733\n",
      "{\"x\": 0.8196855960224781} -3.6805588666889237\n",
      "{\"x\": 0.82204663789604} -3.4952391422571383\n",
      "{\"x\": 0.7962201108318021} -5.135531111110637\n",
      "{\"x\": 0.7775457234188564} -5.789124091237177\n",
      "{\"x\": 0.7997805815708482} -4.960455255726088\n",
      "{\"x\": 0.8175868919032088} -3.83940850669835\n",
      "{\"x\": 0.7385626432251395} -5.844886968459959\n",
      "{\"x\": 0.7134246154777857} -5.141487603328419\n",
      "{\"x\": 0.7354222898719996} -5.783409442269132\n",
      "{\"x\": 0.11165725283850925} -0.8192315048039062\n",
      "{\"x\": 0.738257830598224} -5.839292407406767\n",
      "{\"x\": 0.6417460294327604} -1.8170627277133362\n",
      "{\"x\": 0.7311775104197727} -5.687222610974796\n",
      "{\"x\": 0.8277343168280791} -3.020438401680559\n",
      "{\"x\": 0.6243046863652015} -1.0453056950141755\n",
      "{\"x\": 0.8499671465795944} -0.8021626301730993\n",
      "{\"x\": 0.726926533831402} -5.576640860774351\n",
      "{\"x\": 0.8108001426501227} -4.314783852157579\n",
      "{\"x\": 0.3532457962676614} 0.0033784537892356716\n",
      "{\"x\": 0.7621241543271401} -6.0078741852802064\n",
      "{\"x\": 0.7036275807301013} -4.758906746925743\n",
      "{\"x\": 0.7927878696570417} -5.288842537657544\n",
      "{\"x\": 0.21472123895324058} -0.5009819262310933\n",
      "{\"x\": 0.7613025419050883} -6.011864967305424\n"
     ]
    }
   ],
   "source": [
    "# run for more iterations\n",
    "n_iterations = 50\n",
    "for i in range(n_iterations):\n",
    "    run_optimization(optimizer)"
   ]
  },
  {
   "cell_type": "markdown",
   "metadata": {},
   "source": [
    "There is some improvement in the optimum:"
   ]
  },
  {
   "cell_type": "code",
   "execution_count": 10,
   "metadata": {},
   "outputs": [
    {
     "data": {
      "text/plain": [
       "{'function_value': -6.013644622699922, 'x': 0.7535841364871388}"
      ]
     },
     "execution_count": 10,
     "metadata": {},
     "output_type": "execute_result"
    }
   ],
   "source": [
    "optimizer.optimum()"
   ]
  },
  {
   "cell_type": "markdown",
   "metadata": {},
   "source": [
    "We can now visualize the surrogate model and optimization process again. The points are colored according to the iteration number, with dark blue points being early in the process and yellow points being later. You can see that at the end of the optimization, the points start to cluster around the optimum."
   ]
  },
  {
   "cell_type": "code",
   "execution_count": 11,
   "metadata": {},
   "outputs": [
    {
     "data": {
      "text/plain": [
       "<matplotlib.legend.Legend at 0x7f9bf5d46250>"
      ]
     },
     "execution_count": 11,
     "metadata": {},
     "output_type": "execute_result"
    },
    {
     "data": {
      "image/png": "[encoded data removed]",
      "text/plain": [
       "<Figure size 432x288 with 2 Axes>"
      ]
     },
     "metadata": {
      "needs_background": "light"
     },
     "output_type": "display_data"
    }
   ],
   "source": [
    "# evaluate the surrogate\n",
    "surrogate_predictions = optimizer.predict(pd.DataFrame({'x': line})).get_dataframe()\n",
    "# plot observations\n",
    "feature_values, target_values = optimizer.get_all_observations()\n",
    "plt.scatter(feature_values, target_values, label='observed points')\n",
    " \n",
    "# plot true function (usually unknown)\n",
    "plt.plot(line, values, label='true function')\n",
    "# plot the surrogate\n",
    "std = np.sqrt(surrogate_predictions['predicted_value_variance'])\n",
    "value = surrogate_predictions['predicted_value']\n",
    "plt.plot(line, value, label='surrogate predictions g')\n",
    "plt.fill_between(line, value - std, value + std, alpha=.1)\n",
    "\n",
    "plt.plot(line, -optimizer.experiment_designer.utility_function(pd.DataFrame({'x': line})), ':', label='utility_function')\n",
    "ax = plt.gca()\n",
    "ax.set_ylabel(\"Objective function f\")\n",
    "ax.set_xlabel(\"Input variable\")\n",
    "bins_axes = ax.twinx()\n",
    "bins_axes.set_ylabel(\"Points sampled\")\n",
    "feature_values.hist(bins=20, ax=bins_axes, alpha=.3, color='k', label=\"count of querry points\")\n",
    "plt.legend()"
   ]
  },
  {
   "cell_type": "markdown",
   "metadata": {},
   "source": [
    "# Going further:\n",
    "\n",
    "1) Plot the optimum as a function of iterations. How long does it take for the optimization to converge? Is that stable over several random restarts?\n",
    "\n",
    "2) Does changing the search to a purely random search (setting ``optimizer_config.experiment_designer_config_fraction_random_suggestions = 1``) change how long the optimization takes to find the optimum?"
   ]
  }
 ],
 "metadata": {
  "kernelspec": {
   "display_name": "Python 3",
   "language": "python",
   "name": "python3"
  },
  "language_info": {
   "codemirror_mode": {
    "name": "ipython",
    "version": 3
   },
   "file_extension": ".py",
   "mimetype": "text/x-python",
   "name": "python",
   "nbconvert_exporter": "python",
   "pygments_lexer": "ipython3",
   "version": "3.7.9"
  }
 },
 "nbformat": 4,
 "nbformat_minor": 4
}
